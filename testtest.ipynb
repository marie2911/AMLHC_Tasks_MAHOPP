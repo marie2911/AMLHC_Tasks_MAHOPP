{
 "cells": [
  {
   "cell_type": "markdown",
   "id": "8542b7a9",
   "metadata": {},
   "source": [
    "# Final Exam and Presentation"
   ]
  },
  {
   "cell_type": "markdown",
   "id": "62461352",
   "metadata": {},
   "source": [
    "Task\n",
    "\n",
    "Find together in groups of 2 persons\n",
    "Select a dataset of interest in the area for healthcare for your supervised or unsupervised study. Use open dataset repositories such as UCI Machine Learning Repository or Kaggle. \n",
    "Define your research question.\n",
    "Create a directory in your Git repository (GitHub) termed \"AMLHC-final-exam\"\n",
    "Implement your knowledge discovery workflow including preprocessing, supervised- or unsupervised learning using code versioning (git).\n",
    "Create a final evaluation report where you interpret your findings and discuss your research question. You can either create a separate report using Word/LaTeX or extend your notebook using Markdown/sweave. \n",
    "Regularly update your progress using git"
   ]
  },
  {
   "cell_type": "code",
   "execution_count": 18,
   "id": "9f023c31",
   "metadata": {},
   "outputs": [],
   "source": [
    "import pandas as pd\n",
    "import numpy as np\n",
    "from sklearn.model_selection import train_test_split, GridSearchCV, cross_val_score\n",
    "from sklearn.ensemble import RandomForestRegressor\n",
    "from sklearn.preprocessing import StandardScaler\n",
    "import matplotlib.pyplot as plt\n",
    "from sklearn.metrics import mean_squared_error, r2_score\n",
    "from sklearn.feature_selection import chi2\n",
    "from sklearn.preprocessing import MinMaxScaler\n",
    "import seaborn as sns\n",
    "import matplotlib.pyplot as plt"
   ]
  },
  {
   "cell_type": "markdown",
   "id": "25a55983",
   "metadata": {},
   "source": [
    "## Basic Data Exploration"
   ]
  },
  {
   "cell_type": "markdown",
   "id": "da3de552",
   "metadata": {},
   "source": [
    "ich nutze pandas um den Datensatz besser kennenzulernen und zu bearbeiten "
   ]
  },
  {
   "cell_type": "code",
   "execution_count": 4,
   "id": "304fd1b2",
   "metadata": {},
   "outputs": [
    {
     "data": {
      "application/vnd.microsoft.datawrangler.viewer.v0+json": {
       "columns": [
        {
         "name": "index",
         "rawType": "object",
         "type": "string"
        },
        {
         "name": "id",
         "rawType": "float64",
         "type": "float"
        },
        {
         "name": "age",
         "rawType": "float64",
         "type": "float"
        },
        {
         "name": "hypertension",
         "rawType": "float64",
         "type": "float"
        },
        {
         "name": "heart_disease",
         "rawType": "float64",
         "type": "float"
        },
        {
         "name": "avg_glucose_level",
         "rawType": "float64",
         "type": "float"
        },
        {
         "name": "bmi",
         "rawType": "float64",
         "type": "float"
        },
        {
         "name": "stroke",
         "rawType": "float64",
         "type": "float"
        }
       ],
       "conversionMethod": "pd.DataFrame",
       "ref": "4b1bf3c6-9ead-4bc2-9918-2e92492f33a9",
       "rows": [
        [
         "count",
         "5110.0",
         "5110.0",
         "5110.0",
         "5110.0",
         "5110.0",
         "4909.0",
         "5110.0"
        ],
        [
         "mean",
         "36517.82935420744",
         "43.226614481409",
         "0.0974559686888454",
         "0.05401174168297456",
         "106.1476771037182",
         "28.893236911794666",
         "0.0487279843444227"
        ],
        [
         "std",
         "21161.721624827165",
         "22.61264672311349",
         "0.29660667423379117",
         "0.22606298750336543",
         "45.28356015058198",
         "7.854066729680164",
         "0.2153198569802376"
        ],
        [
         "min",
         "67.0",
         "0.08",
         "0.0",
         "0.0",
         "55.12",
         "10.3",
         "0.0"
        ],
        [
         "25%",
         "17741.25",
         "25.0",
         "0.0",
         "0.0",
         "77.245",
         "23.5",
         "0.0"
        ],
        [
         "50%",
         "36932.0",
         "45.0",
         "0.0",
         "0.0",
         "91.88499999999999",
         "28.1",
         "0.0"
        ],
        [
         "75%",
         "54682.0",
         "61.0",
         "0.0",
         "0.0",
         "114.09",
         "33.1",
         "0.0"
        ],
        [
         "max",
         "72940.0",
         "82.0",
         "1.0",
         "1.0",
         "271.74",
         "97.6",
         "1.0"
        ]
       ],
       "shape": {
        "columns": 7,
        "rows": 8
       }
      },
      "text/html": [
       "<div>\n",
       "<style scoped>\n",
       "    .dataframe tbody tr th:only-of-type {\n",
       "        vertical-align: middle;\n",
       "    }\n",
       "\n",
       "    .dataframe tbody tr th {\n",
       "        vertical-align: top;\n",
       "    }\n",
       "\n",
       "    .dataframe thead th {\n",
       "        text-align: right;\n",
       "    }\n",
       "</style>\n",
       "<table border=\"1\" class=\"dataframe\">\n",
       "  <thead>\n",
       "    <tr style=\"text-align: right;\">\n",
       "      <th></th>\n",
       "      <th>id</th>\n",
       "      <th>age</th>\n",
       "      <th>hypertension</th>\n",
       "      <th>heart_disease</th>\n",
       "      <th>avg_glucose_level</th>\n",
       "      <th>bmi</th>\n",
       "      <th>stroke</th>\n",
       "    </tr>\n",
       "  </thead>\n",
       "  <tbody>\n",
       "    <tr>\n",
       "      <th>count</th>\n",
       "      <td>5110.000000</td>\n",
       "      <td>5110.000000</td>\n",
       "      <td>5110.000000</td>\n",
       "      <td>5110.000000</td>\n",
       "      <td>5110.000000</td>\n",
       "      <td>4909.000000</td>\n",
       "      <td>5110.000000</td>\n",
       "    </tr>\n",
       "    <tr>\n",
       "      <th>mean</th>\n",
       "      <td>36517.829354</td>\n",
       "      <td>43.226614</td>\n",
       "      <td>0.097456</td>\n",
       "      <td>0.054012</td>\n",
       "      <td>106.147677</td>\n",
       "      <td>28.893237</td>\n",
       "      <td>0.048728</td>\n",
       "    </tr>\n",
       "    <tr>\n",
       "      <th>std</th>\n",
       "      <td>21161.721625</td>\n",
       "      <td>22.612647</td>\n",
       "      <td>0.296607</td>\n",
       "      <td>0.226063</td>\n",
       "      <td>45.283560</td>\n",
       "      <td>7.854067</td>\n",
       "      <td>0.215320</td>\n",
       "    </tr>\n",
       "    <tr>\n",
       "      <th>min</th>\n",
       "      <td>67.000000</td>\n",
       "      <td>0.080000</td>\n",
       "      <td>0.000000</td>\n",
       "      <td>0.000000</td>\n",
       "      <td>55.120000</td>\n",
       "      <td>10.300000</td>\n",
       "      <td>0.000000</td>\n",
       "    </tr>\n",
       "    <tr>\n",
       "      <th>25%</th>\n",
       "      <td>17741.250000</td>\n",
       "      <td>25.000000</td>\n",
       "      <td>0.000000</td>\n",
       "      <td>0.000000</td>\n",
       "      <td>77.245000</td>\n",
       "      <td>23.500000</td>\n",
       "      <td>0.000000</td>\n",
       "    </tr>\n",
       "    <tr>\n",
       "      <th>50%</th>\n",
       "      <td>36932.000000</td>\n",
       "      <td>45.000000</td>\n",
       "      <td>0.000000</td>\n",
       "      <td>0.000000</td>\n",
       "      <td>91.885000</td>\n",
       "      <td>28.100000</td>\n",
       "      <td>0.000000</td>\n",
       "    </tr>\n",
       "    <tr>\n",
       "      <th>75%</th>\n",
       "      <td>54682.000000</td>\n",
       "      <td>61.000000</td>\n",
       "      <td>0.000000</td>\n",
       "      <td>0.000000</td>\n",
       "      <td>114.090000</td>\n",
       "      <td>33.100000</td>\n",
       "      <td>0.000000</td>\n",
       "    </tr>\n",
       "    <tr>\n",
       "      <th>max</th>\n",
       "      <td>72940.000000</td>\n",
       "      <td>82.000000</td>\n",
       "      <td>1.000000</td>\n",
       "      <td>1.000000</td>\n",
       "      <td>271.740000</td>\n",
       "      <td>97.600000</td>\n",
       "      <td>1.000000</td>\n",
       "    </tr>\n",
       "  </tbody>\n",
       "</table>\n",
       "</div>"
      ],
      "text/plain": [
       "                 id          age  hypertension  heart_disease  \\\n",
       "count   5110.000000  5110.000000   5110.000000    5110.000000   \n",
       "mean   36517.829354    43.226614      0.097456       0.054012   \n",
       "std    21161.721625    22.612647      0.296607       0.226063   \n",
       "min       67.000000     0.080000      0.000000       0.000000   \n",
       "25%    17741.250000    25.000000      0.000000       0.000000   \n",
       "50%    36932.000000    45.000000      0.000000       0.000000   \n",
       "75%    54682.000000    61.000000      0.000000       0.000000   \n",
       "max    72940.000000    82.000000      1.000000       1.000000   \n",
       "\n",
       "       avg_glucose_level          bmi       stroke  \n",
       "count        5110.000000  4909.000000  5110.000000  \n",
       "mean          106.147677    28.893237     0.048728  \n",
       "std            45.283560     7.854067     0.215320  \n",
       "min            55.120000    10.300000     0.000000  \n",
       "25%            77.245000    23.500000     0.000000  \n",
       "50%            91.885000    28.100000     0.000000  \n",
       "75%           114.090000    33.100000     0.000000  \n",
       "max           271.740000    97.600000     1.000000  "
      ]
     },
     "execution_count": 4,
     "metadata": {},
     "output_type": "execute_result"
    }
   ],
   "source": [
    "df = pd.read_csv(\"stroke-data.csv\")\n",
    "df.describe()"
   ]
  },
  {
   "cell_type": "markdown",
   "id": "7b1c56b6",
   "metadata": {},
   "source": [
    "The results show 7 numbers for each column in your original dataset. The first number, the count, shows how many rows have non-missing values\n",
    "Result BMI hat fehlende Werte also ist der nächste Schritt die bereinigung des Datensatzes "
   ]
  },
  {
   "cell_type": "code",
   "execution_count": null,
   "id": "76de7f1a",
   "metadata": {},
   "outputs": [],
   "source": [
    "# dropna drops missing values (think of na as \"not available\")\n",
    "df = df.dropna(axis=0)\n",
    "df.drop(columns=[\"id\"], inplace=True)"
   ]
  },
  {
   "cell_type": "code",
   "execution_count": 26,
   "id": "711cdc07",
   "metadata": {},
   "outputs": [
    {
     "data": {
      "application/vnd.microsoft.datawrangler.viewer.v0+json": {
       "columns": [
        {
         "name": "index",
         "rawType": "object",
         "type": "string"
        },
        {
         "name": "age",
         "rawType": "float64",
         "type": "float"
        },
        {
         "name": "hypertension",
         "rawType": "float64",
         "type": "float"
        },
        {
         "name": "heart_disease",
         "rawType": "float64",
         "type": "float"
        },
        {
         "name": "avg_glucose_level",
         "rawType": "float64",
         "type": "float"
        },
        {
         "name": "bmi",
         "rawType": "float64",
         "type": "float"
        },
        {
         "name": "stroke",
         "rawType": "float64",
         "type": "float"
        }
       ],
       "conversionMethod": "pd.DataFrame",
       "ref": "1e62e0c5-d01d-4edb-9464-b82bce9c9595",
       "rows": [
        [
         "count",
         "4908.0",
         "4457.0",
         "4665.0",
         "4341.0",
         "4798.0",
         "4908.0"
        ],
        [
         "mean",
         "42.86881010594947",
         "0.0",
         "0.0",
         "91.4528196268141",
         "28.314818674447686",
         "0.04258353708231459"
        ],
        [
         "std",
         "22.556127929311003",
         "0.0",
         "0.0",
         "22.673642487716346",
         "6.841430648266485",
         "0.2019368416789428"
        ],
        [
         "min",
         "0.08",
         "0.0",
         "0.0",
         "55.12",
         "10.3",
         "0.0"
        ],
        [
         "25%",
         "25.0",
         "0.0",
         "0.0",
         "75.05",
         "23.424999999999997",
         "0.0"
        ],
        [
         "50%",
         "44.0",
         "0.0",
         "0.0",
         "87.98",
         "27.9",
         "0.0"
        ],
        [
         "75%",
         "60.0",
         "0.0",
         "0.0",
         "104.0",
         "32.6",
         "0.0"
        ],
        [
         "max",
         "82.0",
         "0.0",
         "0.0",
         "168.15",
         "47.5",
         "1.0"
        ]
       ],
       "shape": {
        "columns": 6,
        "rows": 8
       }
      },
      "text/html": [
       "<div>\n",
       "<style scoped>\n",
       "    .dataframe tbody tr th:only-of-type {\n",
       "        vertical-align: middle;\n",
       "    }\n",
       "\n",
       "    .dataframe tbody tr th {\n",
       "        vertical-align: top;\n",
       "    }\n",
       "\n",
       "    .dataframe thead th {\n",
       "        text-align: right;\n",
       "    }\n",
       "</style>\n",
       "<table border=\"1\" class=\"dataframe\">\n",
       "  <thead>\n",
       "    <tr style=\"text-align: right;\">\n",
       "      <th></th>\n",
       "      <th>age</th>\n",
       "      <th>hypertension</th>\n",
       "      <th>heart_disease</th>\n",
       "      <th>avg_glucose_level</th>\n",
       "      <th>bmi</th>\n",
       "      <th>stroke</th>\n",
       "    </tr>\n",
       "  </thead>\n",
       "  <tbody>\n",
       "    <tr>\n",
       "      <th>count</th>\n",
       "      <td>4908.000000</td>\n",
       "      <td>4457.0</td>\n",
       "      <td>4665.0</td>\n",
       "      <td>4341.000000</td>\n",
       "      <td>4798.000000</td>\n",
       "      <td>4908.000000</td>\n",
       "    </tr>\n",
       "    <tr>\n",
       "      <th>mean</th>\n",
       "      <td>42.868810</td>\n",
       "      <td>0.0</td>\n",
       "      <td>0.0</td>\n",
       "      <td>91.452820</td>\n",
       "      <td>28.314819</td>\n",
       "      <td>0.042584</td>\n",
       "    </tr>\n",
       "    <tr>\n",
       "      <th>std</th>\n",
       "      <td>22.556128</td>\n",
       "      <td>0.0</td>\n",
       "      <td>0.0</td>\n",
       "      <td>22.673642</td>\n",
       "      <td>6.841431</td>\n",
       "      <td>0.201937</td>\n",
       "    </tr>\n",
       "    <tr>\n",
       "      <th>min</th>\n",
       "      <td>0.080000</td>\n",
       "      <td>0.0</td>\n",
       "      <td>0.0</td>\n",
       "      <td>55.120000</td>\n",
       "      <td>10.300000</td>\n",
       "      <td>0.000000</td>\n",
       "    </tr>\n",
       "    <tr>\n",
       "      <th>25%</th>\n",
       "      <td>25.000000</td>\n",
       "      <td>0.0</td>\n",
       "      <td>0.0</td>\n",
       "      <td>75.050000</td>\n",
       "      <td>23.425000</td>\n",
       "      <td>0.000000</td>\n",
       "    </tr>\n",
       "    <tr>\n",
       "      <th>50%</th>\n",
       "      <td>44.000000</td>\n",
       "      <td>0.0</td>\n",
       "      <td>0.0</td>\n",
       "      <td>87.980000</td>\n",
       "      <td>27.900000</td>\n",
       "      <td>0.000000</td>\n",
       "    </tr>\n",
       "    <tr>\n",
       "      <th>75%</th>\n",
       "      <td>60.000000</td>\n",
       "      <td>0.0</td>\n",
       "      <td>0.0</td>\n",
       "      <td>104.000000</td>\n",
       "      <td>32.600000</td>\n",
       "      <td>0.000000</td>\n",
       "    </tr>\n",
       "    <tr>\n",
       "      <th>max</th>\n",
       "      <td>82.000000</td>\n",
       "      <td>0.0</td>\n",
       "      <td>0.0</td>\n",
       "      <td>168.150000</td>\n",
       "      <td>47.500000</td>\n",
       "      <td>1.000000</td>\n",
       "    </tr>\n",
       "  </tbody>\n",
       "</table>\n",
       "</div>"
      ],
      "text/plain": [
       "               age  hypertension  heart_disease  avg_glucose_level  \\\n",
       "count  4908.000000        4457.0         4665.0        4341.000000   \n",
       "mean     42.868810           0.0            0.0          91.452820   \n",
       "std      22.556128           0.0            0.0          22.673642   \n",
       "min       0.080000           0.0            0.0          55.120000   \n",
       "25%      25.000000           0.0            0.0          75.050000   \n",
       "50%      44.000000           0.0            0.0          87.980000   \n",
       "75%      60.000000           0.0            0.0         104.000000   \n",
       "max      82.000000           0.0            0.0         168.150000   \n",
       "\n",
       "               bmi       stroke  \n",
       "count  4798.000000  4908.000000  \n",
       "mean     28.314819     0.042584  \n",
       "std       6.841431     0.201937  \n",
       "min      10.300000     0.000000  \n",
       "25%      23.425000     0.000000  \n",
       "50%      27.900000     0.000000  \n",
       "75%      32.600000     0.000000  \n",
       "max      47.500000     1.000000  "
      ]
     },
     "execution_count": 26,
     "metadata": {},
     "output_type": "execute_result"
    }
   ],
   "source": [
    "df.describe()"
   ]
  },
  {
   "cell_type": "markdown",
   "id": "0227bc84",
   "metadata": {},
   "source": [
    "supervised learning "
   ]
  },
  {
   "cell_type": "code",
   "execution_count": null,
   "id": "02b094a0",
   "metadata": {},
   "outputs": [],
   "source": [
    "df = df[df[\"gender\"] != \"Other\"]\n",
    "df = pd.get_dummies(df, columns=[\"gender\"], drop_first=True)"
   ]
  },
  {
   "cell_type": "code",
   "execution_count": 27,
   "id": "7d26679d",
   "metadata": {},
   "outputs": [
    {
     "name": "stderr",
     "output_type": "stream",
     "text": [
      "/var/folders/h4/rxs_f2t56ng4372r52py0g0h0000gn/T/ipykernel_30520/2815623142.py:13: FutureWarning: A value is trying to be set on a copy of a DataFrame or Series through chained assignment using an inplace method.\n",
      "The behavior will change in pandas 3.0. This inplace method will never work because the intermediate object on which we are setting values always behaves as a copy.\n",
      "\n",
      "For example, when doing 'df[col].method(value, inplace=True)', try using 'df.method({col: value}, inplace=True)' or df[col] = df[col].method(value) instead, to perform the operation inplace on the original object.\n",
      "\n",
      "\n",
      "  df[\"bmi\"].fillna(df[\"bmi\"].median(), inplace=True)\n"
     ]
    },
    {
     "data": {
      "image/png": "[encoded data removed]",
      "text/plain": [
       "<Figure size 600x400 with 1 Axes>"
      ]
     },
     "metadata": {},
     "output_type": "display_data"
    },
    {
     "data": {
      "image/png": "[encoded data removed]",
      "text/plain": [
       "<Figure size 1000x800 with 2 Axes>"
      ]
     },
     "metadata": {},
     "output_type": "display_data"
    }
   ],
   "source": [
    "import pandas as pd\n",
    "import matplotlib.pyplot as plt\n",
    "import seaborn as sns\n",
    "from sklearn.preprocessing import LabelEncoder\n",
    "\n",
    "# === 1. Daten laden ===\n",
    "df = pd.read_csv(\"stroke-data.csv\")\n",
    "\n",
    "# === 2. Irrelevante Spalte entfernen ===\n",
    "df = df.drop(columns=[\"id\"])\n",
    "\n",
    "# === 3. Fehlende Werte behandeln ===\n",
    "df[\"bmi\"].fillna(df[\"bmi\"].median(), inplace=True)\n",
    "\n",
    "# === 4. Kategoriale Variablen codieren ===\n",
    "categorical_cols = df.select_dtypes(include=\"object\").columns\n",
    "label_encoders = {}\n",
    "\n",
    "for col in categorical_cols:\n",
    "    le = LabelEncoder()\n",
    "    df[col] = le.fit_transform(df[col])\n",
    "    label_encoders[col] = le\n",
    "\n",
    "# === 5. Zielvariable untersuchen ===\n",
    "plt.figure(figsize=(6, 4))\n",
    "sns.countplot(x=\"stroke\", data=df)\n",
    "plt.title(\"Verteilung der Zielvariable (stroke)\")\n",
    "plt.xlabel(\"Stroke (0 = Kein Schlaganfall, 1 = Schlaganfall)\")\n",
    "plt.ylabel(\"Anzahl\")\n",
    "plt.tight_layout()\n",
    "plt.show()\n",
    "\n",
    "# === 6. Korrelationsmatrix anzeigen ===\n",
    "plt.figure(figsize=(10, 8))\n",
    "sns.heatmap(df.corr(), annot=True, fmt=\".2f\", cmap=\"coolwarm\")\n",
    "plt.title(\"Korrelationsmatrix\")\n",
    "plt.tight_layout()\n",
    "plt.show()\n",
    "\n",
    "# === 7. Optional: vorbereiteten Datensatz speichern ===\n",
    "df.to_csv(\"stroke-data-preprocessed.csv\", index=False)"
   ]
  },
  {
   "cell_type": "code",
   "execution_count": 32,
   "id": "c274a3f7",
   "metadata": {},
   "outputs": [
    {
     "name": "stdout",
     "output_type": "stream",
     "text": [
      "\n",
      "Randwerte die mit Na ergänz werden.\n",
      "Anzahl fehlender Werte:\n",
      "gender                 0\n",
      "age                    0\n",
      "hypertension         498\n",
      "heart_disease        276\n",
      "ever_married           0\n",
      "work_type            657\n",
      "Residence_type         0\n",
      "avg_glucose_level    750\n",
      "bmi                  147\n",
      "smoking_status         0\n",
      "stroke               249\n",
      "dtype: int64\n",
      "\n",
      "Daten ohne Außreißer (after removing outliers): (3248, 11)\n"
     ]
    }
   ],
   "source": [
    "# alle Zeilen selektieren vom Typ number also nur die numerischen Werte\n",
    "\n",
    "numeric_cols = df.select_dtypes(include=['number']).columns\n",
    "#die detection\n",
    "Q1 = df[numeric_cols].quantile(0.25) # 25% Quantil\n",
    "Q3 = df[numeric_cols].quantile(0.75) # 75% Quantil\n",
    "IQR = Q3 - Q1 # Interquartilbereich\n",
    "\n",
    "#defineren der Außreißer -> Werte die außerhalb des Interquartilbereichs liegen\n",
    "\n",
    "lower_bound = Q1 - 1.5 * IQR \n",
    "upper_bound = Q3 + 1.5 * IQR\n",
    "\n",
    "#definerten Außenseiter mit NA ersetzen\n",
    "outliers = ((df[numeric_cols] < lower_bound) | (df[numeric_cols] > upper_bound))\n",
    "df[numeric_cols] = df[numeric_cols].mask(outliers)\n",
    "# true wenn ein Wert ein Außenseiter ist - False wenn er im Interquartilbereich liegt\n",
    "\n",
    "print(\"\\nRandwerte die mit Na ergänz werden.\\nAnzahl fehlender Werte:\")\n",
    "print(df.isnull().sum())\n",
    "\n",
    "# leere Zeilen löschen \n",
    "df_clean = df.dropna()\n",
    "print(\"\\nDaten ohne Außreißer (after removing outliers):\", df_clean.shape)"
   ]
  },
  {
   "cell_type": "markdown",
   "id": "d92e3598",
   "metadata": {},
   "source": [
    "Wichtig: die Außreißer können Modelle verzerren - mann sollte aber die 0 in manchen Variablen prüfen"
   ]
  },
  {
   "cell_type": "code",
   "execution_count": 35,
   "id": "39dd0a45",
   "metadata": {},
   "outputs": [
    {
     "name": "stdout",
     "output_type": "stream",
     "text": [
      "\n",
      "Summary Statistics (After Cleaning):\n",
      "\n",
      "            gender          age  hypertension  heart_disease  ever_married  \\\n",
      "count  3248.000000  3248.000000        3248.0         3248.0   3248.000000   \n",
      "mean      0.404249    36.106663           0.0            0.0      0.552956   \n",
      "std       0.491449    21.984090           0.0            0.0      0.497264   \n",
      "min       0.000000     0.080000           0.0            0.0      0.000000   \n",
      "25%       0.000000    18.000000           0.0            0.0      0.000000   \n",
      "50%       0.000000    35.000000           0.0            0.0      1.000000   \n",
      "75%       1.000000    53.000000           0.0            0.0      1.000000   \n",
      "max       2.000000    82.000000           0.0            0.0      1.000000   \n",
      "\n",
      "         work_type  Residence_type  avg_glucose_level          bmi  \\\n",
      "count  3248.000000     3248.000000        3248.000000  3248.000000   \n",
      "mean      2.543411        0.507697          89.791001    27.103387   \n",
      "std       0.814460        0.500018          20.244260     6.614362   \n",
      "min       1.000000        0.000000          55.120000    11.300000   \n",
      "25%       2.000000        0.000000          74.827500    22.200000   \n",
      "50%       2.000000        1.000000          87.205000    26.900000   \n",
      "75%       3.000000        1.000000         102.527500    31.300000   \n",
      "max       4.000000        1.000000         147.140000    45.300000   \n",
      "\n",
      "       smoking_status  stroke  \n",
      "count     3248.000000  3248.0  \n",
      "mean         1.257697     0.0  \n",
      "std          1.097258     0.0  \n",
      "min          0.000000     0.0  \n",
      "25%          0.000000     0.0  \n",
      "50%          1.000000     0.0  \n",
      "75%          2.000000     0.0  \n",
      "max          3.000000     0.0  \n"
     ]
    }
   ],
   "source": [
    "print(\"\\nSummary Statistics (After Cleaning):\\n\")\n",
    "print(df_clean.describe())"
   ]
  },
  {
   "cell_type": "code",
   "execution_count": 36,
   "id": "3086e5d1",
   "metadata": {},
   "outputs": [
    {
     "name": "stdout",
     "output_type": "stream",
     "text": [
      "\n",
      "Chi-squared Feature Ranking:\n",
      "              Feature  Chi2_Score  P_Value\n",
      "0             gender         NaN      NaN\n",
      "1                age         NaN      NaN\n",
      "2       hypertension         NaN      NaN\n",
      "3      heart_disease         NaN      NaN\n",
      "4       ever_married         NaN      NaN\n",
      "5          work_type         NaN      NaN\n",
      "6     Residence_type         NaN      NaN\n",
      "7  avg_glucose_level         NaN      NaN\n",
      "8                bmi         NaN      NaN\n",
      "9     smoking_status         NaN      NaN\n"
     ]
    }
   ],
   "source": [
    "# Definieren Merkmale und Zielvariable X ist dann zum \"Füttern\" des Modells und y ist das Ziel, das vorhergesagt werden soll\n",
    "X = df_clean.drop('stroke', axis=1)\n",
    "y = df_clean['stroke']\n",
    "\n",
    "# Min und Max Skalierung\n",
    "scaler = MinMaxScaler()\n",
    "X_scaled = scaler.fit_transform(X)\n",
    "\n",
    "# Chi2 test\n",
    "chi2_scores, p_values = chi2(X_scaled, y)\n",
    "\n",
    "# raning der Features erstellen, die auf den Chi2-Scores basieren\n",
    "feature_ranking = pd.DataFrame({\n",
    "    'Feature': X.columns,\n",
    "    'Chi2_Score': chi2_scores,\n",
    "    'P_Value': p_values\n",
    "}).sort_values(by='Chi2_Score', ascending=False)\n",
    "\n",
    "print(\"\\nChi-squared Feature Ranking:\\n\", feature_ranking)"
   ]
  },
  {
   "cell_type": "code",
   "execution_count": 37,
   "id": "6e12aa0c",
   "metadata": {},
   "outputs": [
    {
     "name": "stdout",
     "output_type": "stream",
     "text": [
      "          Feature  Chi2_Score  P_Value\n",
      "0          gender         NaN      NaN\n",
      "1    hypertension         NaN      NaN\n",
      "2   heart_disease         NaN      NaN\n",
      "3    ever_married         NaN      NaN\n",
      "4  Residence_type         NaN      NaN\n"
     ]
    }
   ],
   "source": [
    "X_chi2 = X[['gender', 'hypertension', 'heart_disease', 'ever_married', 'Residence_type']]  # nur diskrete\n",
    "\n",
    "chi2_scores, p_values = chi2(X_chi2, y)\n",
    "\n",
    "feature_ranking = pd.DataFrame({\n",
    "    'Feature': X_chi2.columns,\n",
    "    'Chi2_Score': chi2_scores,\n",
    "    'P_Value': p_values\n",
    "}).sort_values(by='Chi2_Score', ascending=False)\n",
    "\n",
    "print(feature_ranking)"
   ]
  },
  {
   "cell_type": "code",
   "execution_count": 38,
   "id": "d97658ff",
   "metadata": {},
   "outputs": [
    {
     "name": "stdout",
     "output_type": "stream",
     "text": [
      "          Feature  Chi2_Score  P_Value\n",
      "0          gender         NaN      NaN\n",
      "1    hypertension         NaN      NaN\n",
      "2   heart_disease         NaN      NaN\n",
      "3    ever_married         NaN      NaN\n",
      "4  Residence_type         NaN      NaN\n"
     ]
    }
   ],
   "source": [
    "from sklearn.feature_selection import chi2\n",
    "import pandas as pd\n",
    "\n",
    "# Nur diskrete Merkmale auswählen\n",
    "X = df_clean[['gender', 'hypertension', 'heart_disease', 'ever_married', 'Residence_type']].copy()\n",
    "y = df_clean['stroke']\n",
    "\n",
    "# Kategoriale Variablen in numerische Codes umwandeln (falls nötig)\n",
    "for col in X.select_dtypes(include='object').columns:\n",
    "    X[col] = X[col].astype('category').cat.codes\n",
    "\n",
    "# Chi²-Test\n",
    "chi2_scores, p_values = chi2(X, y)\n",
    "\n",
    "# Ranking\n",
    "feature_ranking = pd.DataFrame({\n",
    "    'Feature': X.columns,\n",
    "    'Chi2_Score': chi2_scores,\n",
    "    'P_Value': p_values\n",
    "}).sort_values(by='Chi2_Score', ascending=False)\n",
    "\n",
    "print(feature_ranking)"
   ]
  }
 ],
 "metadata": {
  "kernelspec": {
   "display_name": ".venv",
   "language": "python",
   "name": "python3"
  },
  "language_info": {
   "codemirror_mode": {
    "name": "ipython",
    "version": 3
   },
   "file_extension": ".py",
   "mimetype": "text/x-python",
   "name": "python",
   "nbconvert_exporter": "python",
   "pygments_lexer": "ipython3",
   "version": "3.9.6"
  }
 },
 "nbformat": 4,
 "nbformat_minor": 5
}
